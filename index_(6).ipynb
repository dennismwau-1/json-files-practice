{
  "cells": [
    {
      "cell_type": "markdown",
      "metadata": {
        "id": "view-in-github",
        "colab_type": "text"
      },
      "source": [
        "<a href=\"https://colab.research.google.com/github/dennismwau-1/json-files-practice/blob/main/index_(6).ipynb\" target=\"_parent\"><img src=\"https://colab.research.google.com/assets/colab-badge.svg\" alt=\"Open In Colab\"/></a>"
      ]
    },
    {
      "cell_type": "markdown",
      "metadata": {
        "id": "VNVJZlQUkg8L"
      },
      "source": [
        "# JSON\n",
        "\n",
        "## Introduction\n",
        "\n",
        "In this lesson, you'll continue investigating new formats for data. Specifically, you'll investigate one of the most popular data formats for the web: JSON files.\n",
        "\n",
        "## Objectives\n",
        "You will be able to:\n",
        "\n",
        "* Describe features of the JSON format and the Python `json` module\n",
        "* Use Python to load and parse JSON documents\n",
        "\n",
        "\n",
        "## JSON Format\n",
        "\n",
        "JSON stands for JavaScript Object Notation. Similar to CSV, JSON is a **plain text** data format. However the structure of JSON — based on the syntax of JavaScript — is more complex.\n",
        "\n",
        "Here's a brief preview of a JSON file:  \n",
        "\n",
        "<img src=\"images/json_preview.png\" width=\"850\">\n",
        "\n",
        "As you can see, JSON is not a tabular format with one set of rows and one set of columns. JSON files are often nested in a hierarchical structure and will have data structures analogous to Python dictionaries and lists. Here's all of the built-in supported data types in JSON and their counterparts in Python:\n",
        "\n",
        "<img src=\"images/json_python_datatypes.png\" width=500>\n",
        "\n",
        "\n",
        "## `json` Module\n",
        "\n",
        "In theory we could write our own custom code to split that string on `{`, `\"`, `:` etc. and parse the contents of the file into the appropriate Python data structures.\n",
        "\n",
        "Instead, we'll go ahead and use a pre-built Python module designed for this purpose. It will give us a powerful starting point for accessing and manipulating the data in JSON files. This module is called `json`.\n",
        "\n",
        "You can find full documentation for this module [here](https://docs.python.org/3/library/json.html).\n",
        "\n",
        "To use the `json` module, start by importing it:"
      ]
    },
    {
      "cell_type": "code",
      "source": [
        "3"
      ],
      "metadata": {
        "id": "506Uo9bykkYl",
        "colab": {
          "base_uri": "https://localhost:8080/"
        },
        "outputId": "3fe49d52-38dc-4e1e-f523-b80126a19838"
      },
      "execution_count": 1,
      "outputs": [
        {
          "output_type": "execute_result",
          "data": {
            "text/plain": [
              "3"
            ]
          },
          "metadata": {},
          "execution_count": 1
        }
      ]
    },
    {
      "cell_type": "code",
      "execution_count": 2,
      "metadata": {
        "id": "PtAq57Kakg8S"
      },
      "outputs": [],
      "source": [
        "import json"
      ]
    },
    {
      "cell_type": "markdown",
      "metadata": {
        "id": "qWi4gt47kg8U"
      },
      "source": [
        "### `json.load`\n",
        "\n",
        "To load data from a JSON file, you first open the file using Python's built-in `open` function. Then you pass the file object to the `json.load` function, which returns a Python object representing the contents of the file.\n",
        "\n",
        "In the cell below, we open the campaign finance JSON file previewed above:"
      ]
    },
    {
      "cell_type": "code",
      "execution_count": 4,
      "metadata": {
        "id": "rB9Js6M6kg8V",
        "outputId": "61fa7fa9-d327-44f3-98cd-df759b58ea8d",
        "colab": {
          "base_uri": "https://localhost:8080/"
        }
      },
      "outputs": [
        {
          "output_type": "stream",
          "name": "stdout",
          "text": [
            "<class 'dict'>\n"
          ]
        }
      ],
      "source": [
        "with open('nyc_2001_campaign_finance.json') as f:\n",
        "    data = json.load(f)\n",
        "print(type(data))"
      ]
    },
    {
      "cell_type": "markdown",
      "metadata": {
        "id": "BWGjNzAikg8W"
      },
      "source": [
        "As you can see, this loaded the data as a dictionary. You can begin to investigate the contents of a JSON file by using our traditional Python methods."
      ]
    },
    {
      "cell_type": "markdown",
      "metadata": {
        "id": "izcWW5l0kg8X"
      },
      "source": [
        "### Parsing a JSON File\n",
        "\n",
        "Since we have a dictionary, check its keys:"
      ]
    },
    {
      "cell_type": "code",
      "execution_count": 5,
      "metadata": {
        "id": "4BNePD-5kg8X",
        "outputId": "552c4217-5a63-462d-de62-2e3f241e676b",
        "colab": {
          "base_uri": "https://localhost:8080/"
        }
      },
      "outputs": [
        {
          "output_type": "execute_result",
          "data": {
            "text/plain": [
              "dict_keys(['meta', 'data'])"
            ]
          },
          "metadata": {},
          "execution_count": 5
        }
      ],
      "source": [
        "data.keys()"
      ]
    },
    {
      "cell_type": "markdown",
      "metadata": {
        "id": "j2VHK1xPkg8Y"
      },
      "source": [
        "Investigate what data types are stored within the values associated with those keys:"
      ]
    },
    {
      "cell_type": "code",
      "execution_count": 6,
      "metadata": {
        "id": "Xf0rshVlkg8Z",
        "outputId": "8e024759-b385-46a3-94fa-1a64baf9684e",
        "colab": {
          "base_uri": "https://localhost:8080/"
        }
      },
      "outputs": [
        {
          "output_type": "stream",
          "name": "stdout",
          "text": [
            "<class 'dict'>\n",
            "<class 'list'>\n"
          ]
        }
      ],
      "source": [
        "for v in data.values():\n",
        "    print(type(v))"
      ]
    },
    {
      "cell_type": "markdown",
      "metadata": {
        "id": "e4PFXnSikg8a"
      },
      "source": [
        "#### Parsing Metadata\n",
        "\n",
        "Then we can dig a level deeper. What are the keys of the nested dictionary?"
      ]
    },
    {
      "cell_type": "code",
      "execution_count": 7,
      "metadata": {
        "id": "SSWgf0kukg8a",
        "outputId": "2f8964b0-0c91-4cd8-82d9-7c1ba95bb3dd",
        "colab": {
          "base_uri": "https://localhost:8080/"
        }
      },
      "outputs": [
        {
          "output_type": "execute_result",
          "data": {
            "text/plain": [
              "dict_keys(['view'])"
            ]
          },
          "metadata": {},
          "execution_count": 7
        }
      ],
      "source": [
        "data['meta'].keys()"
      ]
    },
    {
      "cell_type": "markdown",
      "metadata": {
        "id": "aK1cJjt5kg8b"
      },
      "source": [
        "And what is the type of the value associated with that key?"
      ]
    },
    {
      "cell_type": "code",
      "execution_count": 8,
      "metadata": {
        "id": "ByB-8WKukg8c",
        "outputId": "6373f65f-4b99-4f84-8bf2-40a5d89cd909",
        "colab": {
          "base_uri": "https://localhost:8080/"
        }
      },
      "outputs": [
        {
          "output_type": "execute_result",
          "data": {
            "text/plain": [
              "dict"
            ]
          },
          "metadata": {},
          "execution_count": 8
        }
      ],
      "source": [
        "type(data['meta']['view'])"
      ]
    },
    {
      "cell_type": "markdown",
      "metadata": {
        "id": "Rh4mU4X0kg8c"
      },
      "source": [
        "Again, what are the keys of that twice-nested dictionary?"
      ]
    },
    {
      "cell_type": "code",
      "execution_count": 9,
      "metadata": {
        "id": "En8A2-T-kg8c",
        "outputId": "c9722557-ecbd-418c-8ac8-bdde1d60840d",
        "colab": {
          "base_uri": "https://localhost:8080/"
        }
      },
      "outputs": [
        {
          "output_type": "execute_result",
          "data": {
            "text/plain": [
              "dict_keys(['id', 'name', 'attribution', 'averageRating', 'category', 'createdAt', 'description', 'displayType', 'downloadCount', 'hideFromCatalog', 'hideFromDataJson', 'indexUpdatedAt', 'newBackend', 'numberOfComments', 'oid', 'provenance', 'publicationAppendEnabled', 'publicationDate', 'publicationGroup', 'publicationStage', 'rowClass', 'rowsUpdatedAt', 'rowsUpdatedBy', 'tableId', 'totalTimesRated', 'viewCount', 'viewLastModified', 'viewType', 'columns', 'grants', 'metadata', 'owner', 'query', 'rights', 'tableAuthor', 'tags', 'flags'])"
            ]
          },
          "metadata": {},
          "execution_count": 9
        }
      ],
      "source": [
        "data['meta']['view'].keys()"
      ]
    },
    {
      "cell_type": "markdown",
      "metadata": {
        "id": "BYuJpoqikg8d"
      },
      "source": [
        "That is a lot of keys. One way we might try to view all of that information is using the `pandas` package to make a table."
      ]
    },
    {
      "cell_type": "code",
      "execution_count": 10,
      "metadata": {
        "id": "8HxgINVNkg8d",
        "outputId": "476b4d43-f1f9-48d2-c2ff-746529d94bb0",
        "colab": {
          "base_uri": "https://localhost:8080/",
          "height": 1000
        }
      },
      "outputs": [
        {
          "output_type": "execute_result",
          "data": {
            "text/plain": [
              "                                                                                                                                            value\n",
              "id                                                                                                                                      8dhd-zvi6\n",
              "name                                                                                                                       2001 Campaign Payments\n",
              "attribution                                                                                                          Campaign Finance Board (CFB)\n",
              "averageRating                                                                                                                                   0\n",
              "category                                                                                                                          City Government\n",
              "createdAt                                                                                                                              1315950830\n",
              "description                                      A listing of public funds payments for candidates for City office during the 2001 election cycle\n",
              "displayType                                                                                                                                 table\n",
              "downloadCount                                                                                                                                1470\n",
              "hideFromCatalog                                                                                                                             False\n",
              "hideFromDataJson                                                                                                                            False\n",
              "indexUpdatedAt                                                                                                                         1536596254\n",
              "newBackend                                                                                                                                  False\n",
              "numberOfComments                                                                                                                                0\n",
              "oid                                                                                                                                       4140996\n",
              "provenance                                                                                                                               official\n",
              "publicationAppendEnabled                                                                                                                    False\n",
              "publicationDate                                                                                                                        1371845179\n",
              "publicationGroup                                                                                                                           240370\n",
              "publicationStage                                                                                                                        published\n",
              "rowClass                                                                                                                                         \n",
              "rowsUpdatedAt                                                                                                                          1371845177\n",
              "rowsUpdatedBy                                                                                                                           5fuc-pqz2\n",
              "tableId                                                                                                                                    932968\n",
              "totalTimesRated                                                                                                                                 0\n",
              "viewCount                                                                                                                                     233\n",
              "viewLastModified                                                                                                                       1536605717\n",
              "viewType                                                                                                                                  tabular\n",
              "columns                   [{'id': -1, 'name': 'sid', 'dataTypeName': 'meta_data', 'fieldName': ':sid', 'position': 0, 'renderTypeName': 'meta_...\n",
              "grants                                                                              [{'inherited': False, 'type': 'viewer', 'flags': ['public']}]\n",
              "metadata                  {'rdfSubject': '0', 'rdfClass': '', 'attachments': [{'filename': 'Data_Dictionary_Public_Funds_Payments_FINAL.xlsx',...\n",
              "owner                     {'id': '5fuc-pqz2', 'displayName': 'NYC OpenData', 'profileImageUrlLarge': '/api/users/5fuc-pqz2/profile_images/LARG...\n",
              "query                                                                                                                                          {}\n",
              "rights                                                                                                                                     [read]\n",
              "tableAuthor               {'id': '5fuc-pqz2', 'displayName': 'NYC OpenData', 'profileImageUrlLarge': '/api/users/5fuc-pqz2/profile_images/LARG...\n",
              "tags                      [finance, campaign finance board, cfb, nyccfb, campaign finance, elections, contributions, politics, campaign, funding]\n",
              "flags                                                                                               [default, restorable, restorePossibleForType]"
            ],
            "text/html": [
              "\n",
              "  <div id=\"df-37aa61ff-8569-41d3-a31f-4fad84a2da09\" class=\"colab-df-container\">\n",
              "    <div>\n",
              "<style scoped>\n",
              "    .dataframe tbody tr th:only-of-type {\n",
              "        vertical-align: middle;\n",
              "    }\n",
              "\n",
              "    .dataframe tbody tr th {\n",
              "        vertical-align: top;\n",
              "    }\n",
              "\n",
              "    .dataframe thead th {\n",
              "        text-align: right;\n",
              "    }\n",
              "</style>\n",
              "<table border=\"1\" class=\"dataframe\">\n",
              "  <thead>\n",
              "    <tr style=\"text-align: right;\">\n",
              "      <th></th>\n",
              "      <th>value</th>\n",
              "    </tr>\n",
              "  </thead>\n",
              "  <tbody>\n",
              "    <tr>\n",
              "      <th>id</th>\n",
              "      <td>8dhd-zvi6</td>\n",
              "    </tr>\n",
              "    <tr>\n",
              "      <th>name</th>\n",
              "      <td>2001 Campaign Payments</td>\n",
              "    </tr>\n",
              "    <tr>\n",
              "      <th>attribution</th>\n",
              "      <td>Campaign Finance Board (CFB)</td>\n",
              "    </tr>\n",
              "    <tr>\n",
              "      <th>averageRating</th>\n",
              "      <td>0</td>\n",
              "    </tr>\n",
              "    <tr>\n",
              "      <th>category</th>\n",
              "      <td>City Government</td>\n",
              "    </tr>\n",
              "    <tr>\n",
              "      <th>createdAt</th>\n",
              "      <td>1315950830</td>\n",
              "    </tr>\n",
              "    <tr>\n",
              "      <th>description</th>\n",
              "      <td>A listing of public funds payments for candidates for City office during the 2001 election cycle</td>\n",
              "    </tr>\n",
              "    <tr>\n",
              "      <th>displayType</th>\n",
              "      <td>table</td>\n",
              "    </tr>\n",
              "    <tr>\n",
              "      <th>downloadCount</th>\n",
              "      <td>1470</td>\n",
              "    </tr>\n",
              "    <tr>\n",
              "      <th>hideFromCatalog</th>\n",
              "      <td>False</td>\n",
              "    </tr>\n",
              "    <tr>\n",
              "      <th>hideFromDataJson</th>\n",
              "      <td>False</td>\n",
              "    </tr>\n",
              "    <tr>\n",
              "      <th>indexUpdatedAt</th>\n",
              "      <td>1536596254</td>\n",
              "    </tr>\n",
              "    <tr>\n",
              "      <th>newBackend</th>\n",
              "      <td>False</td>\n",
              "    </tr>\n",
              "    <tr>\n",
              "      <th>numberOfComments</th>\n",
              "      <td>0</td>\n",
              "    </tr>\n",
              "    <tr>\n",
              "      <th>oid</th>\n",
              "      <td>4140996</td>\n",
              "    </tr>\n",
              "    <tr>\n",
              "      <th>provenance</th>\n",
              "      <td>official</td>\n",
              "    </tr>\n",
              "    <tr>\n",
              "      <th>publicationAppendEnabled</th>\n",
              "      <td>False</td>\n",
              "    </tr>\n",
              "    <tr>\n",
              "      <th>publicationDate</th>\n",
              "      <td>1371845179</td>\n",
              "    </tr>\n",
              "    <tr>\n",
              "      <th>publicationGroup</th>\n",
              "      <td>240370</td>\n",
              "    </tr>\n",
              "    <tr>\n",
              "      <th>publicationStage</th>\n",
              "      <td>published</td>\n",
              "    </tr>\n",
              "    <tr>\n",
              "      <th>rowClass</th>\n",
              "      <td></td>\n",
              "    </tr>\n",
              "    <tr>\n",
              "      <th>rowsUpdatedAt</th>\n",
              "      <td>1371845177</td>\n",
              "    </tr>\n",
              "    <tr>\n",
              "      <th>rowsUpdatedBy</th>\n",
              "      <td>5fuc-pqz2</td>\n",
              "    </tr>\n",
              "    <tr>\n",
              "      <th>tableId</th>\n",
              "      <td>932968</td>\n",
              "    </tr>\n",
              "    <tr>\n",
              "      <th>totalTimesRated</th>\n",
              "      <td>0</td>\n",
              "    </tr>\n",
              "    <tr>\n",
              "      <th>viewCount</th>\n",
              "      <td>233</td>\n",
              "    </tr>\n",
              "    <tr>\n",
              "      <th>viewLastModified</th>\n",
              "      <td>1536605717</td>\n",
              "    </tr>\n",
              "    <tr>\n",
              "      <th>viewType</th>\n",
              "      <td>tabular</td>\n",
              "    </tr>\n",
              "    <tr>\n",
              "      <th>columns</th>\n",
              "      <td>[{'id': -1, 'name': 'sid', 'dataTypeName': 'meta_data', 'fieldName': ':sid', 'position': 0, 'renderTypeName': 'meta_...</td>\n",
              "    </tr>\n",
              "    <tr>\n",
              "      <th>grants</th>\n",
              "      <td>[{'inherited': False, 'type': 'viewer', 'flags': ['public']}]</td>\n",
              "    </tr>\n",
              "    <tr>\n",
              "      <th>metadata</th>\n",
              "      <td>{'rdfSubject': '0', 'rdfClass': '', 'attachments': [{'filename': 'Data_Dictionary_Public_Funds_Payments_FINAL.xlsx',...</td>\n",
              "    </tr>\n",
              "    <tr>\n",
              "      <th>owner</th>\n",
              "      <td>{'id': '5fuc-pqz2', 'displayName': 'NYC OpenData', 'profileImageUrlLarge': '/api/users/5fuc-pqz2/profile_images/LARG...</td>\n",
              "    </tr>\n",
              "    <tr>\n",
              "      <th>query</th>\n",
              "      <td>{}</td>\n",
              "    </tr>\n",
              "    <tr>\n",
              "      <th>rights</th>\n",
              "      <td>[read]</td>\n",
              "    </tr>\n",
              "    <tr>\n",
              "      <th>tableAuthor</th>\n",
              "      <td>{'id': '5fuc-pqz2', 'displayName': 'NYC OpenData', 'profileImageUrlLarge': '/api/users/5fuc-pqz2/profile_images/LARG...</td>\n",
              "    </tr>\n",
              "    <tr>\n",
              "      <th>tags</th>\n",
              "      <td>[finance, campaign finance board, cfb, nyccfb, campaign finance, elections, contributions, politics, campaign, funding]</td>\n",
              "    </tr>\n",
              "    <tr>\n",
              "      <th>flags</th>\n",
              "      <td>[default, restorable, restorePossibleForType]</td>\n",
              "    </tr>\n",
              "  </tbody>\n",
              "</table>\n",
              "</div>\n",
              "    <div class=\"colab-df-buttons\">\n",
              "\n",
              "  <div class=\"colab-df-container\">\n",
              "    <button class=\"colab-df-convert\" onclick=\"convertToInteractive('df-37aa61ff-8569-41d3-a31f-4fad84a2da09')\"\n",
              "            title=\"Convert this dataframe to an interactive table.\"\n",
              "            style=\"display:none;\">\n",
              "\n",
              "  <svg xmlns=\"http://www.w3.org/2000/svg\" height=\"24px\" viewBox=\"0 -960 960 960\">\n",
              "    <path d=\"M120-120v-720h720v720H120Zm60-500h600v-160H180v160Zm220 220h160v-160H400v160Zm0 220h160v-160H400v160ZM180-400h160v-160H180v160Zm440 0h160v-160H620v160ZM180-180h160v-160H180v160Zm440 0h160v-160H620v160Z\"/>\n",
              "  </svg>\n",
              "    </button>\n",
              "\n",
              "  <style>\n",
              "    .colab-df-container {\n",
              "      display:flex;\n",
              "      gap: 12px;\n",
              "    }\n",
              "\n",
              "    .colab-df-convert {\n",
              "      background-color: #E8F0FE;\n",
              "      border: none;\n",
              "      border-radius: 50%;\n",
              "      cursor: pointer;\n",
              "      display: none;\n",
              "      fill: #1967D2;\n",
              "      height: 32px;\n",
              "      padding: 0 0 0 0;\n",
              "      width: 32px;\n",
              "    }\n",
              "\n",
              "    .colab-df-convert:hover {\n",
              "      background-color: #E2EBFA;\n",
              "      box-shadow: 0px 1px 2px rgba(60, 64, 67, 0.3), 0px 1px 3px 1px rgba(60, 64, 67, 0.15);\n",
              "      fill: #174EA6;\n",
              "    }\n",
              "\n",
              "    .colab-df-buttons div {\n",
              "      margin-bottom: 4px;\n",
              "    }\n",
              "\n",
              "    [theme=dark] .colab-df-convert {\n",
              "      background-color: #3B4455;\n",
              "      fill: #D2E3FC;\n",
              "    }\n",
              "\n",
              "    [theme=dark] .colab-df-convert:hover {\n",
              "      background-color: #434B5C;\n",
              "      box-shadow: 0px 1px 3px 1px rgba(0, 0, 0, 0.15);\n",
              "      filter: drop-shadow(0px 1px 2px rgba(0, 0, 0, 0.3));\n",
              "      fill: #FFFFFF;\n",
              "    }\n",
              "  </style>\n",
              "\n",
              "    <script>\n",
              "      const buttonEl =\n",
              "        document.querySelector('#df-37aa61ff-8569-41d3-a31f-4fad84a2da09 button.colab-df-convert');\n",
              "      buttonEl.style.display =\n",
              "        google.colab.kernel.accessAllowed ? 'block' : 'none';\n",
              "\n",
              "      async function convertToInteractive(key) {\n",
              "        const element = document.querySelector('#df-37aa61ff-8569-41d3-a31f-4fad84a2da09');\n",
              "        const dataTable =\n",
              "          await google.colab.kernel.invokeFunction('convertToInteractive',\n",
              "                                                    [key], {});\n",
              "        if (!dataTable) return;\n",
              "\n",
              "        const docLinkHtml = 'Like what you see? Visit the ' +\n",
              "          '<a target=\"_blank\" href=https://colab.research.google.com/notebooks/data_table.ipynb>data table notebook</a>'\n",
              "          + ' to learn more about interactive tables.';\n",
              "        element.innerHTML = '';\n",
              "        dataTable['output_type'] = 'display_data';\n",
              "        await google.colab.output.renderOutput(dataTable, element);\n",
              "        const docLink = document.createElement('div');\n",
              "        docLink.innerHTML = docLinkHtml;\n",
              "        element.appendChild(docLink);\n",
              "      }\n",
              "    </script>\n",
              "  </div>\n",
              "\n",
              "\n",
              "<div id=\"df-bfb0c19e-acf0-4347-81d4-73631f8182a3\">\n",
              "  <button class=\"colab-df-quickchart\" onclick=\"quickchart('df-bfb0c19e-acf0-4347-81d4-73631f8182a3')\"\n",
              "            title=\"Suggest charts\"\n",
              "            style=\"display:none;\">\n",
              "\n",
              "<svg xmlns=\"http://www.w3.org/2000/svg\" height=\"24px\"viewBox=\"0 0 24 24\"\n",
              "     width=\"24px\">\n",
              "    <g>\n",
              "        <path d=\"M19 3H5c-1.1 0-2 .9-2 2v14c0 1.1.9 2 2 2h14c1.1 0 2-.9 2-2V5c0-1.1-.9-2-2-2zM9 17H7v-7h2v7zm4 0h-2V7h2v10zm4 0h-2v-4h2v4z\"/>\n",
              "    </g>\n",
              "</svg>\n",
              "  </button>\n",
              "\n",
              "<style>\n",
              "  .colab-df-quickchart {\n",
              "      --bg-color: #E8F0FE;\n",
              "      --fill-color: #1967D2;\n",
              "      --hover-bg-color: #E2EBFA;\n",
              "      --hover-fill-color: #174EA6;\n",
              "      --disabled-fill-color: #AAA;\n",
              "      --disabled-bg-color: #DDD;\n",
              "  }\n",
              "\n",
              "  [theme=dark] .colab-df-quickchart {\n",
              "      --bg-color: #3B4455;\n",
              "      --fill-color: #D2E3FC;\n",
              "      --hover-bg-color: #434B5C;\n",
              "      --hover-fill-color: #FFFFFF;\n",
              "      --disabled-bg-color: #3B4455;\n",
              "      --disabled-fill-color: #666;\n",
              "  }\n",
              "\n",
              "  .colab-df-quickchart {\n",
              "    background-color: var(--bg-color);\n",
              "    border: none;\n",
              "    border-radius: 50%;\n",
              "    cursor: pointer;\n",
              "    display: none;\n",
              "    fill: var(--fill-color);\n",
              "    height: 32px;\n",
              "    padding: 0;\n",
              "    width: 32px;\n",
              "  }\n",
              "\n",
              "  .colab-df-quickchart:hover {\n",
              "    background-color: var(--hover-bg-color);\n",
              "    box-shadow: 0 1px 2px rgba(60, 64, 67, 0.3), 0 1px 3px 1px rgba(60, 64, 67, 0.15);\n",
              "    fill: var(--button-hover-fill-color);\n",
              "  }\n",
              "\n",
              "  .colab-df-quickchart-complete:disabled,\n",
              "  .colab-df-quickchart-complete:disabled:hover {\n",
              "    background-color: var(--disabled-bg-color);\n",
              "    fill: var(--disabled-fill-color);\n",
              "    box-shadow: none;\n",
              "  }\n",
              "\n",
              "  .colab-df-spinner {\n",
              "    border: 2px solid var(--fill-color);\n",
              "    border-color: transparent;\n",
              "    border-bottom-color: var(--fill-color);\n",
              "    animation:\n",
              "      spin 1s steps(1) infinite;\n",
              "  }\n",
              "\n",
              "  @keyframes spin {\n",
              "    0% {\n",
              "      border-color: transparent;\n",
              "      border-bottom-color: var(--fill-color);\n",
              "      border-left-color: var(--fill-color);\n",
              "    }\n",
              "    20% {\n",
              "      border-color: transparent;\n",
              "      border-left-color: var(--fill-color);\n",
              "      border-top-color: var(--fill-color);\n",
              "    }\n",
              "    30% {\n",
              "      border-color: transparent;\n",
              "      border-left-color: var(--fill-color);\n",
              "      border-top-color: var(--fill-color);\n",
              "      border-right-color: var(--fill-color);\n",
              "    }\n",
              "    40% {\n",
              "      border-color: transparent;\n",
              "      border-right-color: var(--fill-color);\n",
              "      border-top-color: var(--fill-color);\n",
              "    }\n",
              "    60% {\n",
              "      border-color: transparent;\n",
              "      border-right-color: var(--fill-color);\n",
              "    }\n",
              "    80% {\n",
              "      border-color: transparent;\n",
              "      border-right-color: var(--fill-color);\n",
              "      border-bottom-color: var(--fill-color);\n",
              "    }\n",
              "    90% {\n",
              "      border-color: transparent;\n",
              "      border-bottom-color: var(--fill-color);\n",
              "    }\n",
              "  }\n",
              "</style>\n",
              "\n",
              "  <script>\n",
              "    async function quickchart(key) {\n",
              "      const quickchartButtonEl =\n",
              "        document.querySelector('#' + key + ' button');\n",
              "      quickchartButtonEl.disabled = true;  // To prevent multiple clicks.\n",
              "      quickchartButtonEl.classList.add('colab-df-spinner');\n",
              "      try {\n",
              "        const charts = await google.colab.kernel.invokeFunction(\n",
              "            'suggestCharts', [key], {});\n",
              "      } catch (error) {\n",
              "        console.error('Error during call to suggestCharts:', error);\n",
              "      }\n",
              "      quickchartButtonEl.classList.remove('colab-df-spinner');\n",
              "      quickchartButtonEl.classList.add('colab-df-quickchart-complete');\n",
              "    }\n",
              "    (() => {\n",
              "      let quickchartButtonEl =\n",
              "        document.querySelector('#df-bfb0c19e-acf0-4347-81d4-73631f8182a3 button');\n",
              "      quickchartButtonEl.style.display =\n",
              "        google.colab.kernel.accessAllowed ? 'block' : 'none';\n",
              "    })();\n",
              "  </script>\n",
              "</div>\n",
              "\n",
              "    </div>\n",
              "  </div>\n"
            ],
            "application/vnd.google.colaboratory.intrinsic+json": {
              "type": "dataframe",
              "summary": "{\n  \"name\": \")\",\n  \"rows\": 37,\n  \"fields\": [\n    {\n      \"column\": \"value\",\n      \"properties\": {\n        \"dtype\": \"object\",\n        \"semantic_type\": \"\",\n        \"description\": \"\"\n      }\n    }\n  ]\n}"
            }
          },
          "metadata": {},
          "execution_count": 10
        }
      ],
      "source": [
        "import pandas as pd\n",
        "pd.set_option(\"max_colwidth\", 120)\n",
        "pd.DataFrame(\n",
        "    data=data['meta']['view'].values(),\n",
        "    index=data['meta']['view'].keys(),\n",
        "    columns=[\"value\"]\n",
        ")"
      ]
    },
    {
      "cell_type": "markdown",
      "metadata": {
        "id": "HosURnfukg8d"
      },
      "source": [
        "So, it looks like the information under the `meta` key is essentially all of the metadata about the dataset, including the category, attribution, tags, etc.\n",
        "\n",
        "Now let's look at the main data.\n",
        "\n",
        "#### Parsing Data\n",
        "\n",
        "This time, let's look at the value associated with the `data` key. Recall that we previously identified that this had a `list` data type, so let's look at the length:"
      ]
    },
    {
      "cell_type": "code",
      "execution_count": 11,
      "metadata": {
        "id": "tAsN1Ltqkg8e",
        "outputId": "4aca2496-c662-4d35-acb5-b423b7f6108a",
        "colab": {
          "base_uri": "https://localhost:8080/"
        }
      },
      "outputs": [
        {
          "output_type": "execute_result",
          "data": {
            "text/plain": [
              "285"
            ]
          },
          "metadata": {},
          "execution_count": 11
        }
      ],
      "source": [
        "len(data['data'])"
      ]
    },
    {
      "cell_type": "markdown",
      "metadata": {
        "id": "7esNj5Ackg8e"
      },
      "source": [
        "Now let's look at a couple different values:"
      ]
    },
    {
      "cell_type": "code",
      "execution_count": 12,
      "metadata": {
        "id": "12NcrooDkg8e",
        "outputId": "c400b534-55f8-4134-aa55-18d8d8b34c27",
        "colab": {
          "base_uri": "https://localhost:8080/"
        }
      },
      "outputs": [
        {
          "output_type": "execute_result",
          "data": {
            "text/plain": [
              "[1,\n",
              " 'E3E9CC9F-7443-43F6-94AF-B5A0F802DBA1',\n",
              " 1,\n",
              " 1315925633,\n",
              " '392904',\n",
              " 1315925633,\n",
              " '392904',\n",
              " '{\\n  \"invalidCells\" : {\\n    \"1519001\" : \"TOTALPAY\",\\n    \"1518998\" : \"PRIMARYPAY\",\\n    \"1519000\" : \"RUNOFFPAY\",\\n    \"1518999\" : \"GENERALPAY\",\\n    \"1518994\" : \"OFFICECD\",\\n    \"1518996\" : \"OFFICEDIST\",\\n    \"1518991\" : \"ELECTION\"\\n  }\\n}',\n",
              " None,\n",
              " 'CANDID',\n",
              " 'CANDNAME',\n",
              " None,\n",
              " 'OFFICEBORO',\n",
              " None,\n",
              " 'CANCLASS',\n",
              " None,\n",
              " None,\n",
              " None,\n",
              " None]"
            ]
          },
          "metadata": {},
          "execution_count": 12
        }
      ],
      "source": [
        "data['data'][0]"
      ]
    },
    {
      "cell_type": "code",
      "execution_count": 13,
      "metadata": {
        "id": "-kBxZ75nkg8f",
        "outputId": "e4f6d7aa-557c-4e25-9c77-eadec5c8a63d",
        "colab": {
          "base_uri": "https://localhost:8080/"
        }
      },
      "outputs": [
        {
          "output_type": "execute_result",
          "data": {
            "text/plain": [
              "[2,\n",
              " '9D257416-581A-4C42-85CC-B6EAD9DED97F',\n",
              " 2,\n",
              " 1315925633,\n",
              " '392904',\n",
              " 1315925633,\n",
              " '392904',\n",
              " '{\\n}',\n",
              " '2001',\n",
              " 'B4',\n",
              " 'Aboulafia, Sandy',\n",
              " '5',\n",
              " None,\n",
              " '44',\n",
              " 'P',\n",
              " '45410.00',\n",
              " '0',\n",
              " '0',\n",
              " '45410.00']"
            ]
          },
          "metadata": {},
          "execution_count": 13
        }
      ],
      "source": [
        "data['data'][1]"
      ]
    },
    {
      "cell_type": "code",
      "execution_count": 14,
      "metadata": {
        "id": "uqTiQAYIkg8f",
        "outputId": "44be9fdb-0092-4116-c52e-641394b01d9c",
        "colab": {
          "base_uri": "https://localhost:8080/"
        }
      },
      "outputs": [
        {
          "output_type": "execute_result",
          "data": {
            "text/plain": [
              "[3,\n",
              " 'B80D7891-93CF-49E8-86E8-182B618E68F2',\n",
              " 3,\n",
              " 1315925633,\n",
              " '392904',\n",
              " 1315925633,\n",
              " '392904',\n",
              " '{\\n}',\n",
              " '2001',\n",
              " '445',\n",
              " 'Adams, Jackie R',\n",
              " '5',\n",
              " None,\n",
              " '7',\n",
              " 'P',\n",
              " '11073.00',\n",
              " '0',\n",
              " '0',\n",
              " '11073.00']"
            ]
          },
          "metadata": {},
          "execution_count": 14
        }
      ],
      "source": [
        "data['data'][2]"
      ]
    },
    {
      "cell_type": "markdown",
      "metadata": {
        "id": "_f08kzWYkg8g"
      },
      "source": [
        "This looks more like some kind of tabular data, where the first (`0`-th) row is some kind of header. Again, let's use pandas to make this into a more-readable table format:"
      ]
    },
    {
      "cell_type": "code",
      "execution_count": 15,
      "metadata": {
        "id": "mKkBfSUDkg8g",
        "outputId": "72cc2abb-3ffe-4286-b92a-1e807b66108f",
        "colab": {
          "base_uri": "https://localhost:8080/",
          "height": 964
        }
      },
      "outputs": [
        {
          "output_type": "execute_result",
          "data": {
            "text/plain": [
              "      0                                     1    2           3       4   \\\n",
              "0      1  E3E9CC9F-7443-43F6-94AF-B5A0F802DBA1    1  1315925633  392904   \n",
              "1      2  9D257416-581A-4C42-85CC-B6EAD9DED97F    2  1315925633  392904   \n",
              "2      3  B80D7891-93CF-49E8-86E8-182B618E68F2    3  1315925633  392904   \n",
              "3      4  BB012003-78F5-406D-8A87-7FF8A425EE3F    4  1315925633  392904   \n",
              "4      5  945825F9-2F5D-47C2-A16B-75B93E61E1AD    5  1315925633  392904   \n",
              "..   ...                                   ...  ...         ...     ...   \n",
              "280  281  C50E6A4C-BDE9-4F12-97F4-95D467013540  281  1315925633  392904   \n",
              "281  282  04C6D19F-FF63-47B0-B26D-3B8F98B4C16B  282  1315925633  392904   \n",
              "282  283  A451E0E9-D382-4A97-AAD8-D7D382055F8D  283  1315925633  392904   \n",
              "283  284  E84BCD0C-D6F4-450F-B55B-3199A265C781  284  1315925633  392904   \n",
              "284  285  5BBC9676-2119-4FB5-9DAB-DE3F71B7681A  285  1315925633  392904   \n",
              "\n",
              "             5       6   \\\n",
              "0    1315925633  392904   \n",
              "1    1315925633  392904   \n",
              "2    1315925633  392904   \n",
              "3    1315925633  392904   \n",
              "4    1315925633  392904   \n",
              "..          ...     ...   \n",
              "280  1315925633  392904   \n",
              "281  1315925633  392904   \n",
              "282  1315925633  392904   \n",
              "283  1315925633  392904   \n",
              "284  1315925633  392904   \n",
              "\n",
              "                                                                                                                          7   \\\n",
              "0    {\\n  \"invalidCells\" : {\\n    \"1519001\" : \"TOTALPAY\",\\n    \"1518998\" : \"PRIMARYPAY\",\\n    \"1519000\" : \"RUNOFFPAY\",\\n ...   \n",
              "1                                                                                                                       {\\n}   \n",
              "2                                                                                                                       {\\n}   \n",
              "3                                                                                                                       {\\n}   \n",
              "4                                                                                                                       {\\n}   \n",
              "..                                                                                                                       ...   \n",
              "280                                                                                                                     {\\n}   \n",
              "281                                                                                                                     {\\n}   \n",
              "282                                                                                                                     {\\n}   \n",
              "283                                                                                                                     {\\n}   \n",
              "284                                                                                                                     {\\n}   \n",
              "\n",
              "       8       9                       10    11          12    13        14  \\\n",
              "0    None  CANDID                CANDNAME  None  OFFICEBORO  None  CANCLASS   \n",
              "1    2001      B4        Aboulafia, Sandy     5        None    44         P   \n",
              "2    2001     445         Adams, Jackie R     5        None     7         P   \n",
              "3    2001      HF       Addabbo, Joseph P     5        None    32         P   \n",
              "4    2001      IR  Alamo-Estrada, Agustin     5        None    14         P   \n",
              "..    ...     ...                     ...   ...         ...   ...       ...   \n",
              "280  2001     537          Wilson, John H     5        None    13         P   \n",
              "281  2001     559        Wooten, Donald T     5        None    42         P   \n",
              "282  2001     280           Yassky, David     5        None    33         P   \n",
              "283  2001     274            Zapiti, Mike     5        None    22         P   \n",
              "284  2001     442            Zett, Lori M     5        None    24         P   \n",
              "\n",
              "           15        16    17         18  \n",
              "0        None      None  None       None  \n",
              "1    45410.00         0     0   45410.00  \n",
              "2    11073.00         0     0   11073.00  \n",
              "3    75350.00  73970.00     0  149320.00  \n",
              "4    25000.00   2400.00     0   27400.00  \n",
              "..        ...       ...   ...        ...  \n",
              "280         0         0     0          0  \n",
              "281         0         0     0          0  \n",
              "282  75350.00  75350.00     0  150700.00  \n",
              "283  12172.00         0     0   12172.00  \n",
              "284         0         0     0          0  \n",
              "\n",
              "[285 rows x 19 columns]"
            ],
            "text/html": [
              "\n",
              "  <div id=\"df-b0026349-bd3d-4f04-bf63-8b2c66e07cce\" class=\"colab-df-container\">\n",
              "    <div>\n",
              "<style scoped>\n",
              "    .dataframe tbody tr th:only-of-type {\n",
              "        vertical-align: middle;\n",
              "    }\n",
              "\n",
              "    .dataframe tbody tr th {\n",
              "        vertical-align: top;\n",
              "    }\n",
              "\n",
              "    .dataframe thead th {\n",
              "        text-align: right;\n",
              "    }\n",
              "</style>\n",
              "<table border=\"1\" class=\"dataframe\">\n",
              "  <thead>\n",
              "    <tr style=\"text-align: right;\">\n",
              "      <th></th>\n",
              "      <th>0</th>\n",
              "      <th>1</th>\n",
              "      <th>2</th>\n",
              "      <th>3</th>\n",
              "      <th>4</th>\n",
              "      <th>5</th>\n",
              "      <th>6</th>\n",
              "      <th>7</th>\n",
              "      <th>8</th>\n",
              "      <th>9</th>\n",
              "      <th>10</th>\n",
              "      <th>11</th>\n",
              "      <th>12</th>\n",
              "      <th>13</th>\n",
              "      <th>14</th>\n",
              "      <th>15</th>\n",
              "      <th>16</th>\n",
              "      <th>17</th>\n",
              "      <th>18</th>\n",
              "    </tr>\n",
              "  </thead>\n",
              "  <tbody>\n",
              "    <tr>\n",
              "      <th>0</th>\n",
              "      <td>1</td>\n",
              "      <td>E3E9CC9F-7443-43F6-94AF-B5A0F802DBA1</td>\n",
              "      <td>1</td>\n",
              "      <td>1315925633</td>\n",
              "      <td>392904</td>\n",
              "      <td>1315925633</td>\n",
              "      <td>392904</td>\n",
              "      <td>{\\n  \"invalidCells\" : {\\n    \"1519001\" : \"TOTALPAY\",\\n    \"1518998\" : \"PRIMARYPAY\",\\n    \"1519000\" : \"RUNOFFPAY\",\\n ...</td>\n",
              "      <td>None</td>\n",
              "      <td>CANDID</td>\n",
              "      <td>CANDNAME</td>\n",
              "      <td>None</td>\n",
              "      <td>OFFICEBORO</td>\n",
              "      <td>None</td>\n",
              "      <td>CANCLASS</td>\n",
              "      <td>None</td>\n",
              "      <td>None</td>\n",
              "      <td>None</td>\n",
              "      <td>None</td>\n",
              "    </tr>\n",
              "    <tr>\n",
              "      <th>1</th>\n",
              "      <td>2</td>\n",
              "      <td>9D257416-581A-4C42-85CC-B6EAD9DED97F</td>\n",
              "      <td>2</td>\n",
              "      <td>1315925633</td>\n",
              "      <td>392904</td>\n",
              "      <td>1315925633</td>\n",
              "      <td>392904</td>\n",
              "      <td>{\\n}</td>\n",
              "      <td>2001</td>\n",
              "      <td>B4</td>\n",
              "      <td>Aboulafia, Sandy</td>\n",
              "      <td>5</td>\n",
              "      <td>None</td>\n",
              "      <td>44</td>\n",
              "      <td>P</td>\n",
              "      <td>45410.00</td>\n",
              "      <td>0</td>\n",
              "      <td>0</td>\n",
              "      <td>45410.00</td>\n",
              "    </tr>\n",
              "    <tr>\n",
              "      <th>2</th>\n",
              "      <td>3</td>\n",
              "      <td>B80D7891-93CF-49E8-86E8-182B618E68F2</td>\n",
              "      <td>3</td>\n",
              "      <td>1315925633</td>\n",
              "      <td>392904</td>\n",
              "      <td>1315925633</td>\n",
              "      <td>392904</td>\n",
              "      <td>{\\n}</td>\n",
              "      <td>2001</td>\n",
              "      <td>445</td>\n",
              "      <td>Adams, Jackie R</td>\n",
              "      <td>5</td>\n",
              "      <td>None</td>\n",
              "      <td>7</td>\n",
              "      <td>P</td>\n",
              "      <td>11073.00</td>\n",
              "      <td>0</td>\n",
              "      <td>0</td>\n",
              "      <td>11073.00</td>\n",
              "    </tr>\n",
              "    <tr>\n",
              "      <th>3</th>\n",
              "      <td>4</td>\n",
              "      <td>BB012003-78F5-406D-8A87-7FF8A425EE3F</td>\n",
              "      <td>4</td>\n",
              "      <td>1315925633</td>\n",
              "      <td>392904</td>\n",
              "      <td>1315925633</td>\n",
              "      <td>392904</td>\n",
              "      <td>{\\n}</td>\n",
              "      <td>2001</td>\n",
              "      <td>HF</td>\n",
              "      <td>Addabbo, Joseph P</td>\n",
              "      <td>5</td>\n",
              "      <td>None</td>\n",
              "      <td>32</td>\n",
              "      <td>P</td>\n",
              "      <td>75350.00</td>\n",
              "      <td>73970.00</td>\n",
              "      <td>0</td>\n",
              "      <td>149320.00</td>\n",
              "    </tr>\n",
              "    <tr>\n",
              "      <th>4</th>\n",
              "      <td>5</td>\n",
              "      <td>945825F9-2F5D-47C2-A16B-75B93E61E1AD</td>\n",
              "      <td>5</td>\n",
              "      <td>1315925633</td>\n",
              "      <td>392904</td>\n",
              "      <td>1315925633</td>\n",
              "      <td>392904</td>\n",
              "      <td>{\\n}</td>\n",
              "      <td>2001</td>\n",
              "      <td>IR</td>\n",
              "      <td>Alamo-Estrada, Agustin</td>\n",
              "      <td>5</td>\n",
              "      <td>None</td>\n",
              "      <td>14</td>\n",
              "      <td>P</td>\n",
              "      <td>25000.00</td>\n",
              "      <td>2400.00</td>\n",
              "      <td>0</td>\n",
              "      <td>27400.00</td>\n",
              "    </tr>\n",
              "    <tr>\n",
              "      <th>...</th>\n",
              "      <td>...</td>\n",
              "      <td>...</td>\n",
              "      <td>...</td>\n",
              "      <td>...</td>\n",
              "      <td>...</td>\n",
              "      <td>...</td>\n",
              "      <td>...</td>\n",
              "      <td>...</td>\n",
              "      <td>...</td>\n",
              "      <td>...</td>\n",
              "      <td>...</td>\n",
              "      <td>...</td>\n",
              "      <td>...</td>\n",
              "      <td>...</td>\n",
              "      <td>...</td>\n",
              "      <td>...</td>\n",
              "      <td>...</td>\n",
              "      <td>...</td>\n",
              "      <td>...</td>\n",
              "    </tr>\n",
              "    <tr>\n",
              "      <th>280</th>\n",
              "      <td>281</td>\n",
              "      <td>C50E6A4C-BDE9-4F12-97F4-95D467013540</td>\n",
              "      <td>281</td>\n",
              "      <td>1315925633</td>\n",
              "      <td>392904</td>\n",
              "      <td>1315925633</td>\n",
              "      <td>392904</td>\n",
              "      <td>{\\n}</td>\n",
              "      <td>2001</td>\n",
              "      <td>537</td>\n",
              "      <td>Wilson, John H</td>\n",
              "      <td>5</td>\n",
              "      <td>None</td>\n",
              "      <td>13</td>\n",
              "      <td>P</td>\n",
              "      <td>0</td>\n",
              "      <td>0</td>\n",
              "      <td>0</td>\n",
              "      <td>0</td>\n",
              "    </tr>\n",
              "    <tr>\n",
              "      <th>281</th>\n",
              "      <td>282</td>\n",
              "      <td>04C6D19F-FF63-47B0-B26D-3B8F98B4C16B</td>\n",
              "      <td>282</td>\n",
              "      <td>1315925633</td>\n",
              "      <td>392904</td>\n",
              "      <td>1315925633</td>\n",
              "      <td>392904</td>\n",
              "      <td>{\\n}</td>\n",
              "      <td>2001</td>\n",
              "      <td>559</td>\n",
              "      <td>Wooten, Donald T</td>\n",
              "      <td>5</td>\n",
              "      <td>None</td>\n",
              "      <td>42</td>\n",
              "      <td>P</td>\n",
              "      <td>0</td>\n",
              "      <td>0</td>\n",
              "      <td>0</td>\n",
              "      <td>0</td>\n",
              "    </tr>\n",
              "    <tr>\n",
              "      <th>282</th>\n",
              "      <td>283</td>\n",
              "      <td>A451E0E9-D382-4A97-AAD8-D7D382055F8D</td>\n",
              "      <td>283</td>\n",
              "      <td>1315925633</td>\n",
              "      <td>392904</td>\n",
              "      <td>1315925633</td>\n",
              "      <td>392904</td>\n",
              "      <td>{\\n}</td>\n",
              "      <td>2001</td>\n",
              "      <td>280</td>\n",
              "      <td>Yassky, David</td>\n",
              "      <td>5</td>\n",
              "      <td>None</td>\n",
              "      <td>33</td>\n",
              "      <td>P</td>\n",
              "      <td>75350.00</td>\n",
              "      <td>75350.00</td>\n",
              "      <td>0</td>\n",
              "      <td>150700.00</td>\n",
              "    </tr>\n",
              "    <tr>\n",
              "      <th>283</th>\n",
              "      <td>284</td>\n",
              "      <td>E84BCD0C-D6F4-450F-B55B-3199A265C781</td>\n",
              "      <td>284</td>\n",
              "      <td>1315925633</td>\n",
              "      <td>392904</td>\n",
              "      <td>1315925633</td>\n",
              "      <td>392904</td>\n",
              "      <td>{\\n}</td>\n",
              "      <td>2001</td>\n",
              "      <td>274</td>\n",
              "      <td>Zapiti, Mike</td>\n",
              "      <td>5</td>\n",
              "      <td>None</td>\n",
              "      <td>22</td>\n",
              "      <td>P</td>\n",
              "      <td>12172.00</td>\n",
              "      <td>0</td>\n",
              "      <td>0</td>\n",
              "      <td>12172.00</td>\n",
              "    </tr>\n",
              "    <tr>\n",
              "      <th>284</th>\n",
              "      <td>285</td>\n",
              "      <td>5BBC9676-2119-4FB5-9DAB-DE3F71B7681A</td>\n",
              "      <td>285</td>\n",
              "      <td>1315925633</td>\n",
              "      <td>392904</td>\n",
              "      <td>1315925633</td>\n",
              "      <td>392904</td>\n",
              "      <td>{\\n}</td>\n",
              "      <td>2001</td>\n",
              "      <td>442</td>\n",
              "      <td>Zett, Lori M</td>\n",
              "      <td>5</td>\n",
              "      <td>None</td>\n",
              "      <td>24</td>\n",
              "      <td>P</td>\n",
              "      <td>0</td>\n",
              "      <td>0</td>\n",
              "      <td>0</td>\n",
              "      <td>0</td>\n",
              "    </tr>\n",
              "  </tbody>\n",
              "</table>\n",
              "<p>285 rows × 19 columns</p>\n",
              "</div>\n",
              "    <div class=\"colab-df-buttons\">\n",
              "\n",
              "  <div class=\"colab-df-container\">\n",
              "    <button class=\"colab-df-convert\" onclick=\"convertToInteractive('df-b0026349-bd3d-4f04-bf63-8b2c66e07cce')\"\n",
              "            title=\"Convert this dataframe to an interactive table.\"\n",
              "            style=\"display:none;\">\n",
              "\n",
              "  <svg xmlns=\"http://www.w3.org/2000/svg\" height=\"24px\" viewBox=\"0 -960 960 960\">\n",
              "    <path d=\"M120-120v-720h720v720H120Zm60-500h600v-160H180v160Zm220 220h160v-160H400v160Zm0 220h160v-160H400v160ZM180-400h160v-160H180v160Zm440 0h160v-160H620v160ZM180-180h160v-160H180v160Zm440 0h160v-160H620v160Z\"/>\n",
              "  </svg>\n",
              "    </button>\n",
              "\n",
              "  <style>\n",
              "    .colab-df-container {\n",
              "      display:flex;\n",
              "      gap: 12px;\n",
              "    }\n",
              "\n",
              "    .colab-df-convert {\n",
              "      background-color: #E8F0FE;\n",
              "      border: none;\n",
              "      border-radius: 50%;\n",
              "      cursor: pointer;\n",
              "      display: none;\n",
              "      fill: #1967D2;\n",
              "      height: 32px;\n",
              "      padding: 0 0 0 0;\n",
              "      width: 32px;\n",
              "    }\n",
              "\n",
              "    .colab-df-convert:hover {\n",
              "      background-color: #E2EBFA;\n",
              "      box-shadow: 0px 1px 2px rgba(60, 64, 67, 0.3), 0px 1px 3px 1px rgba(60, 64, 67, 0.15);\n",
              "      fill: #174EA6;\n",
              "    }\n",
              "\n",
              "    .colab-df-buttons div {\n",
              "      margin-bottom: 4px;\n",
              "    }\n",
              "\n",
              "    [theme=dark] .colab-df-convert {\n",
              "      background-color: #3B4455;\n",
              "      fill: #D2E3FC;\n",
              "    }\n",
              "\n",
              "    [theme=dark] .colab-df-convert:hover {\n",
              "      background-color: #434B5C;\n",
              "      box-shadow: 0px 1px 3px 1px rgba(0, 0, 0, 0.15);\n",
              "      filter: drop-shadow(0px 1px 2px rgba(0, 0, 0, 0.3));\n",
              "      fill: #FFFFFF;\n",
              "    }\n",
              "  </style>\n",
              "\n",
              "    <script>\n",
              "      const buttonEl =\n",
              "        document.querySelector('#df-b0026349-bd3d-4f04-bf63-8b2c66e07cce button.colab-df-convert');\n",
              "      buttonEl.style.display =\n",
              "        google.colab.kernel.accessAllowed ? 'block' : 'none';\n",
              "\n",
              "      async function convertToInteractive(key) {\n",
              "        const element = document.querySelector('#df-b0026349-bd3d-4f04-bf63-8b2c66e07cce');\n",
              "        const dataTable =\n",
              "          await google.colab.kernel.invokeFunction('convertToInteractive',\n",
              "                                                    [key], {});\n",
              "        if (!dataTable) return;\n",
              "\n",
              "        const docLinkHtml = 'Like what you see? Visit the ' +\n",
              "          '<a target=\"_blank\" href=https://colab.research.google.com/notebooks/data_table.ipynb>data table notebook</a>'\n",
              "          + ' to learn more about interactive tables.';\n",
              "        element.innerHTML = '';\n",
              "        dataTable['output_type'] = 'display_data';\n",
              "        await google.colab.output.renderOutput(dataTable, element);\n",
              "        const docLink = document.createElement('div');\n",
              "        docLink.innerHTML = docLinkHtml;\n",
              "        element.appendChild(docLink);\n",
              "      }\n",
              "    </script>\n",
              "  </div>\n",
              "\n",
              "\n",
              "<div id=\"df-9f06a81f-f9be-444d-a42e-3b51fdabf032\">\n",
              "  <button class=\"colab-df-quickchart\" onclick=\"quickchart('df-9f06a81f-f9be-444d-a42e-3b51fdabf032')\"\n",
              "            title=\"Suggest charts\"\n",
              "            style=\"display:none;\">\n",
              "\n",
              "<svg xmlns=\"http://www.w3.org/2000/svg\" height=\"24px\"viewBox=\"0 0 24 24\"\n",
              "     width=\"24px\">\n",
              "    <g>\n",
              "        <path d=\"M19 3H5c-1.1 0-2 .9-2 2v14c0 1.1.9 2 2 2h14c1.1 0 2-.9 2-2V5c0-1.1-.9-2-2-2zM9 17H7v-7h2v7zm4 0h-2V7h2v10zm4 0h-2v-4h2v4z\"/>\n",
              "    </g>\n",
              "</svg>\n",
              "  </button>\n",
              "\n",
              "<style>\n",
              "  .colab-df-quickchart {\n",
              "      --bg-color: #E8F0FE;\n",
              "      --fill-color: #1967D2;\n",
              "      --hover-bg-color: #E2EBFA;\n",
              "      --hover-fill-color: #174EA6;\n",
              "      --disabled-fill-color: #AAA;\n",
              "      --disabled-bg-color: #DDD;\n",
              "  }\n",
              "\n",
              "  [theme=dark] .colab-df-quickchart {\n",
              "      --bg-color: #3B4455;\n",
              "      --fill-color: #D2E3FC;\n",
              "      --hover-bg-color: #434B5C;\n",
              "      --hover-fill-color: #FFFFFF;\n",
              "      --disabled-bg-color: #3B4455;\n",
              "      --disabled-fill-color: #666;\n",
              "  }\n",
              "\n",
              "  .colab-df-quickchart {\n",
              "    background-color: var(--bg-color);\n",
              "    border: none;\n",
              "    border-radius: 50%;\n",
              "    cursor: pointer;\n",
              "    display: none;\n",
              "    fill: var(--fill-color);\n",
              "    height: 32px;\n",
              "    padding: 0;\n",
              "    width: 32px;\n",
              "  }\n",
              "\n",
              "  .colab-df-quickchart:hover {\n",
              "    background-color: var(--hover-bg-color);\n",
              "    box-shadow: 0 1px 2px rgba(60, 64, 67, 0.3), 0 1px 3px 1px rgba(60, 64, 67, 0.15);\n",
              "    fill: var(--button-hover-fill-color);\n",
              "  }\n",
              "\n",
              "  .colab-df-quickchart-complete:disabled,\n",
              "  .colab-df-quickchart-complete:disabled:hover {\n",
              "    background-color: var(--disabled-bg-color);\n",
              "    fill: var(--disabled-fill-color);\n",
              "    box-shadow: none;\n",
              "  }\n",
              "\n",
              "  .colab-df-spinner {\n",
              "    border: 2px solid var(--fill-color);\n",
              "    border-color: transparent;\n",
              "    border-bottom-color: var(--fill-color);\n",
              "    animation:\n",
              "      spin 1s steps(1) infinite;\n",
              "  }\n",
              "\n",
              "  @keyframes spin {\n",
              "    0% {\n",
              "      border-color: transparent;\n",
              "      border-bottom-color: var(--fill-color);\n",
              "      border-left-color: var(--fill-color);\n",
              "    }\n",
              "    20% {\n",
              "      border-color: transparent;\n",
              "      border-left-color: var(--fill-color);\n",
              "      border-top-color: var(--fill-color);\n",
              "    }\n",
              "    30% {\n",
              "      border-color: transparent;\n",
              "      border-left-color: var(--fill-color);\n",
              "      border-top-color: var(--fill-color);\n",
              "      border-right-color: var(--fill-color);\n",
              "    }\n",
              "    40% {\n",
              "      border-color: transparent;\n",
              "      border-right-color: var(--fill-color);\n",
              "      border-top-color: var(--fill-color);\n",
              "    }\n",
              "    60% {\n",
              "      border-color: transparent;\n",
              "      border-right-color: var(--fill-color);\n",
              "    }\n",
              "    80% {\n",
              "      border-color: transparent;\n",
              "      border-right-color: var(--fill-color);\n",
              "      border-bottom-color: var(--fill-color);\n",
              "    }\n",
              "    90% {\n",
              "      border-color: transparent;\n",
              "      border-bottom-color: var(--fill-color);\n",
              "    }\n",
              "  }\n",
              "</style>\n",
              "\n",
              "  <script>\n",
              "    async function quickchart(key) {\n",
              "      const quickchartButtonEl =\n",
              "        document.querySelector('#' + key + ' button');\n",
              "      quickchartButtonEl.disabled = true;  // To prevent multiple clicks.\n",
              "      quickchartButtonEl.classList.add('colab-df-spinner');\n",
              "      try {\n",
              "        const charts = await google.colab.kernel.invokeFunction(\n",
              "            'suggestCharts', [key], {});\n",
              "      } catch (error) {\n",
              "        console.error('Error during call to suggestCharts:', error);\n",
              "      }\n",
              "      quickchartButtonEl.classList.remove('colab-df-spinner');\n",
              "      quickchartButtonEl.classList.add('colab-df-quickchart-complete');\n",
              "    }\n",
              "    (() => {\n",
              "      let quickchartButtonEl =\n",
              "        document.querySelector('#df-9f06a81f-f9be-444d-a42e-3b51fdabf032 button');\n",
              "      quickchartButtonEl.style.display =\n",
              "        google.colab.kernel.accessAllowed ? 'block' : 'none';\n",
              "    })();\n",
              "  </script>\n",
              "</div>\n",
              "\n",
              "    </div>\n",
              "  </div>\n"
            ],
            "application/vnd.google.colaboratory.intrinsic+json": {
              "type": "dataframe",
              "summary": "{\n  \"name\": \"pd\",\n  \"rows\": 285,\n  \"fields\": [\n    {\n      \"column\": 0,\n      \"properties\": {\n        \"dtype\": \"number\",\n        \"std\": 82,\n        \"min\": 1,\n        \"max\": 285,\n        \"num_unique_values\": 285,\n        \"samples\": [\n          10,\n          250,\n          158\n        ],\n        \"semantic_type\": \"\",\n        \"description\": \"\"\n      }\n    },\n    {\n      \"column\": 1,\n      \"properties\": {\n        \"dtype\": \"string\",\n        \"num_unique_values\": 285,\n        \"samples\": [\n          \"7C977007-BC4A-4A04-AE0E-B2946AFE7193\",\n          \"BF3CEEA3-3070-4B54-BD7F-EA7296C44CDB\",\n          \"39DB9DBC-2E6E-49FC-A057-83ABB70B4424\"\n        ],\n        \"semantic_type\": \"\",\n        \"description\": \"\"\n      }\n    },\n    {\n      \"column\": 2,\n      \"properties\": {\n        \"dtype\": \"number\",\n        \"std\": 82,\n        \"min\": 1,\n        \"max\": 285,\n        \"num_unique_values\": 285,\n        \"samples\": [\n          10,\n          250,\n          158\n        ],\n        \"semantic_type\": \"\",\n        \"description\": \"\"\n      }\n    },\n    {\n      \"column\": 3,\n      \"properties\": {\n        \"dtype\": \"number\",\n        \"std\": 0,\n        \"min\": 1315925633,\n        \"max\": 1315925633,\n        \"num_unique_values\": 1,\n        \"samples\": [\n          1315925633\n        ],\n        \"semantic_type\": \"\",\n        \"description\": \"\"\n      }\n    },\n    {\n      \"column\": 4,\n      \"properties\": {\n        \"dtype\": \"category\",\n        \"num_unique_values\": 1,\n        \"samples\": [\n          \"392904\"\n        ],\n        \"semantic_type\": \"\",\n        \"description\": \"\"\n      }\n    },\n    {\n      \"column\": 5,\n      \"properties\": {\n        \"dtype\": \"number\",\n        \"std\": 0,\n        \"min\": 1315925633,\n        \"max\": 1315925633,\n        \"num_unique_values\": 1,\n        \"samples\": [\n          1315925633\n        ],\n        \"semantic_type\": \"\",\n        \"description\": \"\"\n      }\n    },\n    {\n      \"column\": 6,\n      \"properties\": {\n        \"dtype\": \"category\",\n        \"num_unique_values\": 1,\n        \"samples\": [\n          \"392904\"\n        ],\n        \"semantic_type\": \"\",\n        \"description\": \"\"\n      }\n    },\n    {\n      \"column\": 7,\n      \"properties\": {\n        \"dtype\": \"category\",\n        \"num_unique_values\": 2,\n        \"samples\": [\n          \"{\\n}\"\n        ],\n        \"semantic_type\": \"\",\n        \"description\": \"\"\n      }\n    },\n    {\n      \"column\": 8,\n      \"properties\": {\n        \"dtype\": \"date\",\n        \"min\": \"2001-01-01 00:00:00\",\n        \"max\": \"2001-01-01 00:00:00\",\n        \"num_unique_values\": 1,\n        \"samples\": [\n          \"2001\"\n        ],\n        \"semantic_type\": \"\",\n        \"description\": \"\"\n      }\n    },\n    {\n      \"column\": 9,\n      \"properties\": {\n        \"dtype\": \"string\",\n        \"num_unique_values\": 285,\n        \"samples\": [\n          \"504\"\n        ],\n        \"semantic_type\": \"\",\n        \"description\": \"\"\n      }\n    },\n    {\n      \"column\": 10,\n      \"properties\": {\n        \"dtype\": \"string\",\n        \"num_unique_values\": 285,\n        \"samples\": [\n          \"Ariola, JoAnn\"\n        ],\n        \"semantic_type\": \"\",\n        \"description\": \"\"\n      }\n    },\n    {\n      \"column\": 11,\n      \"properties\": {\n        \"dtype\": \"category\",\n        \"num_unique_values\": 5,\n        \"samples\": [\n          \"1\"\n        ],\n        \"semantic_type\": \"\",\n        \"description\": \"\"\n      }\n    },\n    {\n      \"column\": 12,\n      \"properties\": {\n        \"dtype\": \"category\",\n        \"num_unique_values\": 6,\n        \"samples\": [\n          \"OFFICEBORO\"\n        ],\n        \"semantic_type\": \"\",\n        \"description\": \"\"\n      }\n    },\n    {\n      \"column\": 13,\n      \"properties\": {\n        \"dtype\": \"category\",\n        \"num_unique_values\": 51,\n        \"samples\": [\n          \"5\"\n        ],\n        \"semantic_type\": \"\",\n        \"description\": \"\"\n      }\n    },\n    {\n      \"column\": 14,\n      \"properties\": {\n        \"dtype\": \"category\",\n        \"num_unique_values\": 2,\n        \"samples\": [\n          \"P\"\n        ],\n        \"semantic_type\": \"\",\n        \"description\": \"\"\n      }\n    },\n    {\n      \"column\": 15,\n      \"properties\": {\n        \"dtype\": \"category\",\n        \"num_unique_values\": 112,\n        \"samples\": [\n          \"2846148.00\"\n        ],\n        \"semantic_type\": \"\",\n        \"description\": \"\"\n      }\n    },\n    {\n      \"column\": 16,\n      \"properties\": {\n        \"dtype\": \"category\",\n        \"num_unique_values\": 90,\n        \"samples\": [\n          \"51640.00\"\n        ],\n        \"semantic_type\": \"\",\n        \"description\": \"\"\n      }\n    },\n    {\n      \"column\": 17,\n      \"properties\": {\n        \"dtype\": \"category\",\n        \"num_unique_values\": 7,\n        \"samples\": [\n          \"0\"\n        ],\n        \"semantic_type\": \"\",\n        \"description\": \"\"\n      }\n    },\n    {\n      \"column\": 18,\n      \"properties\": {\n        \"dtype\": \"string\",\n        \"num_unique_values\": 167,\n        \"samples\": [\n          \"21800.00\"\n        ],\n        \"semantic_type\": \"\",\n        \"description\": \"\"\n      }\n    }\n  ]\n}"
            }
          },
          "metadata": {},
          "execution_count": 15
        }
      ],
      "source": [
        "pd.DataFrame(data['data'])"
      ]
    },
    {
      "cell_type": "markdown",
      "metadata": {
        "id": "FG-5tcRkkg8g"
      },
      "source": [
        "We still have some work to do to understand what all of the columns are supposed to mean, but now we have a general sense of what the data looks like."
      ]
    },
    {
      "cell_type": "markdown",
      "metadata": {
        "id": "WcMFckD5kg8g"
      },
      "source": [
        "### Extracting a Value from a JSON File\n",
        "\n",
        "Now, let's say that our task is:\n",
        "\n",
        "> Extract the description of the dataset\n",
        "\n",
        "We know from our initial exploration that this JSON file contains `meta` and `data`, and that `meta` has this kind of high-level information whereas `data` has the actual records relating to campaign finance.\n",
        "\n",
        "Let's look at the keys of `meta` again:"
      ]
    },
    {
      "cell_type": "code",
      "execution_count": 16,
      "metadata": {
        "id": "B2Hb6Z8Kkg8h",
        "outputId": "0c13e303-7fa3-42ea-d4fb-8880fdb580e5",
        "colab": {
          "base_uri": "https://localhost:8080/"
        }
      },
      "outputs": [
        {
          "output_type": "execute_result",
          "data": {
            "text/plain": [
              "dict_keys(['id', 'name', 'attribution', 'averageRating', 'category', 'createdAt', 'description', 'displayType', 'downloadCount', 'hideFromCatalog', 'hideFromDataJson', 'indexUpdatedAt', 'newBackend', 'numberOfComments', 'oid', 'provenance', 'publicationAppendEnabled', 'publicationDate', 'publicationGroup', 'publicationStage', 'rowClass', 'rowsUpdatedAt', 'rowsUpdatedBy', 'tableId', 'totalTimesRated', 'viewCount', 'viewLastModified', 'viewType', 'columns', 'grants', 'metadata', 'owner', 'query', 'rights', 'tableAuthor', 'tags', 'flags'])"
            ]
          },
          "metadata": {},
          "execution_count": 16
        }
      ],
      "source": [
        "data['meta']['view'].keys()"
      ]
    },
    {
      "cell_type": "markdown",
      "metadata": {
        "id": "cdZFYCoKkg8h"
      },
      "source": [
        "Ok, `description` is the 7th one. Let's pull the value associated with the `description` key:"
      ]
    },
    {
      "cell_type": "code",
      "execution_count": 17,
      "metadata": {
        "id": "YVoutnK-kg8h",
        "outputId": "3b63a572-53aa-41e8-dadb-d8ff879be015",
        "colab": {
          "base_uri": "https://localhost:8080/",
          "height": 35
        }
      },
      "outputs": [
        {
          "output_type": "execute_result",
          "data": {
            "text/plain": [
              "'A listing of public funds payments for candidates for City office during the 2001 election cycle'"
            ],
            "application/vnd.google.colaboratory.intrinsic+json": {
              "type": "string"
            }
          },
          "metadata": {},
          "execution_count": 17
        }
      ],
      "source": [
        "data['meta']['view']['description']"
      ]
    },
    {
      "cell_type": "markdown",
      "metadata": {
        "id": "sg-673pvkg8i"
      },
      "source": [
        "This is the general process you will use when extracting information from a JSON file."
      ]
    },
    {
      "cell_type": "markdown",
      "metadata": {
        "id": "17mUIeVJkg8i"
      },
      "source": [
        "## Summary\n",
        "As you can see, there's a lot going on here with the deeply nested structure of JSON data files."
      ]
    }
  ],
  "metadata": {
    "kernelspec": {
      "display_name": "Python 3",
      "language": "python",
      "name": "python3"
    },
    "language_info": {
      "codemirror_mode": {
        "name": "ipython",
        "version": 3
      },
      "file_extension": ".py",
      "mimetype": "text/x-python",
      "name": "python",
      "nbconvert_exporter": "python",
      "pygments_lexer": "ipython3",
      "version": "3.8.5"
    },
    "toc": {
      "base_numbering": 1,
      "nav_menu": {},
      "number_sections": true,
      "sideBar": true,
      "skip_h1_title": false,
      "title_cell": "Table of Contents",
      "title_sidebar": "Contents",
      "toc_cell": false,
      "toc_position": {},
      "toc_section_display": true,
      "toc_window_display": false
    },
    "colab": {
      "provenance": [],
      "include_colab_link": true
    }
  },
  "nbformat": 4,
  "nbformat_minor": 0
}